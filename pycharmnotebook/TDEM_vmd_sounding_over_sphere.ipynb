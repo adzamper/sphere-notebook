{
 "cells": [
  {
   "metadata": {},
   "cell_type": "markdown",
   "source": [
    "# Sphere-overburden algorithm\n",
    "\n",
    "In this notebook, we will simulate an TDEM sounding over a conductive sphere. A cylindrical mesh and the [SimPEG](http://simpeg.xyz) Electromanetics module is used to perform the simulation. \n",
    "\n",
    "For more on SimPEG and SimPEG.EM see:\n",
    "\n",
    "- [(Cockett et al., 2015)](http://www.sciencedirect.com/science/article/pii/S009830041530056X): *SimPEG: An open source framework for simulation and gradient based parameter estimation in geophysical applications*\n",
    "- [(Heagy et al., 2016)](https://arxiv.org/abs/1610.00804): *A framework for simulation and inversion in electromagnetics*"
   ]
  },
  {
   "metadata": {},
   "cell_type": "markdown",
   "source": [
    "\n",
    "## Setup\n",
    "\n",
    "An inductive loop transmitter is centered over an electrically conductive sphere (radius 30m). The transmitter is 20m above the surface, and the center of the sphere is 50m below the surface. A coil receiver is offset by 8m horizontally from the transmitter. \n",
    "\n",
    "<img src=\"https://raw.githubusercontent.com/simpeg/em_notebooks/master/images/cylsetup.png\" width=60%>"
   ]
  },
  {
   "metadata": {},
   "cell_type": "markdown",
   "source": [
    "## Getting Started: Package Imports\n",
    "\n",
    "- [NumPy](http://www.numpy.org/), [SciPy](https://www.scipy.org/) and [Matplotlib](http://matplotlib.org/) are core Python packages that can be installed when you install python with a distribution such as [Anaconda](https://www.continuum.io/downloads). \n",
    "\n",
    "- [SimPEG](http://simpeg.xyz) is a Simulation and Inversion package for geophysics\n",
    "\n",
    "If you would like to set up and run SimPEG on your machine, see http://simpeg.xyz and http://tutorials.simpeg.xyz"
   ]
  },
  {
   "metadata": {
    "trusted": false
   },
   "cell_type": "code",
   "source": [
    "# Basic python packages\n",
    "from discretize import CylMesh\n",
    "from discretize.utils import mkvc\n",
    "\n",
    "from SimPEG import maps\n",
    "import SimPEG.electromagnetics.time_domain as tdem\n",
    "\n",
    "import numpy as np\n",
    "import matplotlib as mpl\n",
    "import matplotlib.pyplot as plt\n",
    "\n",
    "try:\n",
    "    from pymatsolver import Pardiso as Solver\n",
    "except ImportError:\n",
    "    from SimPEG import SolverLU as Solver\n",
    "import numpy as np \n",
    "import matplotlib.pyplot as plt\n",
    "from scipy.constants import mu_0\n",
    "from SimPEG import maps\n",
    "from SimPEG.electromagnetics import time_domain as TDEM\n",
    "# Modules of SimPEG we will use for forward modelling\n",
    "import SimPEG.utils as Utils\n",
    "\n",
    "import SimPEG.maps as Maps\n",
    "\n",
    "from SimPEG import SolverLU as Solver\n",
    "\n",
    "# Set a nice colormap! \n",
    "plt.set_cmap(plt.get_cmap('viridis'))\n",
    "\n",
    "%matplotlib inline"
   ],
   "execution_count": 3,
   "outputs": [
    {
     "ename": "ModuleNotFoundError",
     "evalue": "No module named 'SimPEG.utils.mesh'",
     "output_type": "error",
     "traceback": [
      "\u001B[1;31m---------------------------------------------------------------------------\u001B[0m",
      "\u001B[1;31mModuleNotFoundError\u001B[0m                       Traceback (most recent call last)",
      "\u001B[1;32m<ipython-input-3-49c7872af783>\u001B[0m in \u001B[0;36m<module>\u001B[1;34m\u001B[0m\n\u001B[0;32m     21\u001B[0m \u001B[1;31m# Modules of SimPEG we will use for forward modelling\u001B[0m\u001B[1;33m\u001B[0m\u001B[1;33m\u001B[0m\u001B[1;33m\u001B[0m\u001B[0m\n\u001B[0;32m     22\u001B[0m \u001B[1;32mimport\u001B[0m \u001B[0mSimPEG\u001B[0m\u001B[1;33m.\u001B[0m\u001B[0mutils\u001B[0m \u001B[1;32mas\u001B[0m \u001B[0mUtils\u001B[0m\u001B[1;33m\u001B[0m\u001B[1;33m\u001B[0m\u001B[0m\n\u001B[1;32m---> 23\u001B[1;33m \u001B[1;32mimport\u001B[0m \u001B[0mSimPEG\u001B[0m\u001B[1;33m.\u001B[0m\u001B[0mutils\u001B[0m\u001B[1;33m.\u001B[0m\u001B[0mmesh\u001B[0m\u001B[1;33m\u001B[0m\u001B[1;33m\u001B[0m\u001B[0m\n\u001B[0m\u001B[0;32m     24\u001B[0m \u001B[1;32mimport\u001B[0m \u001B[0mSimPEG\u001B[0m\u001B[1;33m.\u001B[0m\u001B[0mmaps\u001B[0m \u001B[1;32mas\u001B[0m \u001B[0mMaps\u001B[0m\u001B[1;33m\u001B[0m\u001B[1;33m\u001B[0m\u001B[0m\n\u001B[0;32m     25\u001B[0m \u001B[1;33m\u001B[0m\u001B[0m\n",
      "\u001B[1;31mModuleNotFoundError\u001B[0m: No module named 'SimPEG.utils.mesh'"
     ]
    }
   ]
  },
  {
   "metadata": {},
   "cell_type": "markdown",
   "source": "## Model Parameters\n\nWe define a \n- resistive halfspace and \n- conductive sphere \n   - radius of 30m \n   - center is 50m below the surface"
  },
  {
   "metadata": {
    "trusted": false
   },
   "cell_type": "code",
   "source": "# electrical conductivities in S/m\nsig_halfspace = 1e-6\nsig_sphere = 1e-2\nsig_air = 1e-8",
   "execution_count": null,
   "outputs": []
  },
  {
   "metadata": {
    "trusted": false
   },
   "cell_type": "code",
   "source": "# depth to center, radius in m\nsphere_z = -50.\nsphere_radius = 30. ",
   "execution_count": null,
   "outputs": []
  },
  {
   "metadata": {},
   "cell_type": "markdown",
   "source": "## Survey Parameters\n\n- Transmitter and receiver 20m above the surface \n- Receiver offset from transmitter by 8m horizontally\n- We will sample 30 times from $10^{-7}$s to $10^{-4}$s"
  },
  {
   "metadata": {
    "trusted": false
   },
   "cell_type": "code",
   "source": "boom_height = 20. \nrx_offset = 8. \n\ntimes = np.logspace(-7, -4, 30)\n\n# source and receiver location in 3D space\nsrc_loc = np.r_[0., 0., boom_height]\nrx_loc = np.atleast_2d(np.r_[rx_offset, 0., boom_height])",
   "execution_count": null,
   "outputs": []
  },
  {
   "metadata": {
    "trusted": false
   },
   "cell_type": "code",
   "source": "# print the min and max diffusion distances to make sure mesh is \n# fine enough and extends far enough \n\ndef diffusion_distance(sigma, time):\n    return 1.28*np.sqrt(time/(sigma * mu_0))\n\nprint(\n    'min diffusion distance: {:.2e} m'.format(diffusion_distance(sig_sphere, times.min()))\n)\nprint(\n    'max diffusion distance: {:.2e} m'.format(diffusion_distance(sig_halfspace, times.max()))\n)",
   "execution_count": null,
   "outputs": []
  },
  {
   "metadata": {},
   "cell_type": "markdown",
   "source": "## Mesh\n\nHere, we define a cylindrically symmetric tensor mesh. \n\nThe figure below shows a cell in a cartesian mesh (a) and a cylindrically symmetric mesh (b). Note that edges are rotational and faces are radial and vertical in the cylindrically symmetric mesh. \n\n<img src=\"https://raw.githubusercontent.com/simpeg/em_notebooks/master/images/finiteVolume-02.png\" width=60%>"
  },
  {
   "metadata": {},
   "cell_type": "markdown",
   "source": "### Mesh Parameters\n\nFor the mesh, we will use a cylindrically symmetric tensor mesh. To construct a tensor mesh, all that is needed is a vector of cell widths in the x and z-directions. We will define a core mesh region of uniform cell widths and a padding region where the cell widths expand \"to infinity\". "
  },
  {
   "metadata": {
    "trusted": false
   },
   "cell_type": "code",
   "source": "# x-direction\ncsx = 2  # core mesh cell width in the x-direction\nncx = np.ceil(1.2*sphere_radius/csx)  # number of core x-cells (uniform mesh slightly beyond sphere radius)\nnpadx = 30  # number of x padding cells\n\n# z-direction\ncsz = 1  # core mesh cell width in the z-direction\nncz = np.ceil(1.2*(boom_height - (sphere_z-sphere_radius))/csz) # number of core z-cells (uniform cells slightly below bottom of sphere)\nnpadz = 32  # number of z padding cells\n\n# padding factor (expand cells to infinity)\npf = 1.3",
   "execution_count": null,
   "outputs": []
  },
  {
   "metadata": {
    "trusted": false
   },
   "cell_type": "code",
   "source": "# cell spacings in the x and z directions\nhx = Utils.meshTensor([(csx, ncx), (csx, npadx, pf)])\nhz = Utils.meshTensor([(csz, npadz, -pf), (csz, ncz), (csz, npadz, pf)])\n\n# define a SimPEG mesh\nmesh = Mesh.CylMesh([hx, 1, hz], x0 = np.r_[0.,0., -hz.sum()/2.-boom_height])",
   "execution_count": null,
   "outputs": []
  },
  {
   "metadata": {},
   "cell_type": "markdown",
   "source": "### Plot the mesh\n\nBelow, we plot the mesh. The cyl mesh is rotated around x=0. Ensure that each dimension extends beyond the maximum skin depth. \n\nZoom in by changing the xlim and zlim. "
  },
  {
   "metadata": {
    "trusted": false
   },
   "cell_type": "code",
   "source": "# X and Z limits we want to plot to. Try \nxlim = np.r_[0., 2.5e4]\nzlim = np.r_[-2.5e4, 2.5e4]\n\nfig, ax = plt.subplots(1,1)\nmesh.plotGrid(ax=ax)\n\nax.set_title('Simulation Mesh')\nax.set_xlim(xlim)\nax.set_ylim(zlim)\n\nprint(\n    'The maximum diffusion distance (in background) is: {:.2e} m. '\n    'Does the mesh go sufficiently past that?'.format(\n        diffusion_distance(sig_halfspace, times.max())\n    )\n)",
   "execution_count": null,
   "outputs": []
  },
  {
   "metadata": {},
   "cell_type": "markdown",
   "source": "## Put Model on Mesh\n\nNow that the model parameters and mesh are defined, we can define electrical conductivity on the mesh. \n\nThe electrical conductivity is defined at cell centers when using the finite volume method. So here, we define a vector that contains an electrical conductivity value for every cell center. "
  },
  {
   "metadata": {
    "trusted": false
   },
   "cell_type": "code",
   "source": "# create a vector that has one entry for every cell center\nsigma = sig_air*np.ones(mesh.nC)  # start by defining the conductivity of the air everwhere\nsigma[mesh.gridCC[:,2] < 0.] = sig_halfspace  # assign halfspace cells below the earth\n\nsigma_background = sigma.copy()\n\n# indices of the sphere (where (x-x0)**2 + (z-z0)**2 <= R**2)\nsphere_ind = (mesh.gridCC[:,0]**2 + (mesh.gridCC[:,2] - sphere_z)**2) <= sphere_radius**2 \nsigma[sphere_ind] = sig_sphere  # assign the conductivity of the sphere",
   "execution_count": null,
   "outputs": []
  },
  {
   "metadata": {
    "trusted": false
   },
   "cell_type": "code",
   "source": "# Plot a cross section of the conductivity model\nfig, ax = plt.subplots(1,1)\ncb = plt.colorbar(mesh.plotImage(np.log10(sigma), ax=ax, mirror=True)[0])\n\n# plot formatting and titles\ncb.set_label('$\\log_{10}\\sigma$', fontsize=13)\nax.axis('equal')\nax.set_xlim([-120., 120.])\nax.set_ylim([-100., 30.])\nax.set_title('Conductivity Model')",
   "execution_count": null,
   "outputs": []
  },
  {
   "metadata": {},
   "cell_type": "markdown",
   "source": "## Set up the Survey\n\nHere, we define sources and receivers. For this example, the receivers sample $db/dt$, the time-derivative of the magnetic flux. The source is a vertical magnetic dipole with unit moment. "
  },
  {
   "metadata": {
    "trusted": false
   },
   "cell_type": "code",
   "source": "# Define the receivers, we will sample the real secondary magnetic flux density as well as the \n# imaginary magnetic flux density \n\ndbdt_z = TDEM.Rx.Point_dbdt(locs=rx_loc, times=times, orientation='z')  # vertical db_dt\nrxList = [dbdt_z]  # list of receivers",
   "execution_count": null,
   "outputs": []
  },
  {
   "metadata": {
    "trusted": false
   },
   "cell_type": "code",
   "source": "# Define the list of sources - one source for each frequency. The source is a point dipole oriented\n# in the z-direction\n\nsrcList = [\n    TDEM.Src.MagDipole(\n        rxList, loc=src_loc, orientation='z', waveform=TDEM.Src.StepOffWaveform()\n    )\n]\n\nprint(\n    'There is {nsrc} source. Each source has {nrx} receivers '\n    'sampling the resulting db/dt-field at {ntimes} times'.format(\n        nsrc = len(srcList), \n        nrx = len(rxList),\n        ntimes = len(times)\n    )\n)",
   "execution_count": null,
   "outputs": []
  },
  {
   "metadata": {},
   "cell_type": "markdown",
   "source": "## Set up Forward Simulation \n\nA forward simulation consists of a paired SimPEG problem and Survey. For this example, we use the E-formulation of Maxwell's equations, solving the second-order system for the electric field, which is defined on the cell edges of the mesh. This is the `prob` variable below. The `survey` takes the source list which is used to construct the RHS for the problem. The source list also contains the receiver information, so the `survey` knows how to sample fields and fluxes that are produced by solving the `prob`.\n\n\n\n**An Aside: Mappings** \n\nThe `sigmaMap` defines a [mapping](http://dev-docs.simpeg.xyz/content/api_core/api_Maps.html) which translates an input vector to a physical property - specifically, $\\sigma$. This comes in handy when you want to invert for $\\log(\\sigma)$, in that case, the model is defined in terms of log-conductivity, and you would need an `ExpMap` to translate $\\log(\\sigma) \\to \\sigma$"
  },
  {
   "metadata": {
    "trusted": false
   },
   "cell_type": "code",
   "source": "# solve the problem at these times\ntimeSteps = [(1e-8, 20), (1e-7, 20), (2e-7, 10), (1e-6, 10), (2e-6, 10), (1e-5, 10)] \n\n# define a problem - the statement of which discrete pde system we want to solve\nprob = TDEM.Problem3D_e(mesh, timeSteps = timeSteps, sigmaMap=Maps.IdentityMap(mesh))  \nprob.solver = Solver\n\nsurvey = TDEM.Survey(srcList)\n\n# tell the problem and survey about each other - so the RHS can be constructed for \n# the problem and the resulting fields and fluxes can be sampled by the receiver. \nprob.pair(survey)  \n\nprint(\n    'The maximum time is {:1.1e}. \\n There are {} timesteps, '\n    '{} of them distinct (which is the same as the number of matrices that need to be factored)'.format(\n        prob.times[-1], prob.nT, (len(timeSteps))\n    )\n)",
   "execution_count": null,
   "outputs": []
  },
  {
   "metadata": {},
   "cell_type": "markdown",
   "source": "### Solve the forward simulation \n\nHere, we solve the problem for the fields everywhere on the mesh, for with and without the sphere. "
  },
  {
   "metadata": {
    "trusted": false
   },
   "cell_type": "code",
   "source": "%%time\nprint('solving with sphere ... ')\nfields = prob.fields(sigma)\nprint('... done ')",
   "execution_count": null,
   "outputs": []
  },
  {
   "metadata": {
    "trusted": false
   },
   "cell_type": "code",
   "source": "%%time\nprint('solving without sphere ... ')\nfields_background = prob.fields(sigma_background)\nprint('... done ')",
   "execution_count": null,
   "outputs": []
  },
  {
   "metadata": {},
   "cell_type": "markdown",
   "source": "### Plot the fields\n\nLets look at the physics!"
  },
  {
   "metadata": {
    "trusted": false
   },
   "cell_type": "code",
   "source": "# log-scale the colorbar\nfrom matplotlib.colors import LogNorm \nimport ipywidgets",
   "execution_count": null,
   "outputs": []
  },
  {
   "metadata": {
    "trusted": false
   },
   "cell_type": "code",
   "source": "def plot_dbdtSphere(\n    time_ind=0 # which frequency would you like to look at?\n#     ax=ax\n):\n    fig, ax = plt.subplots(1,1, figsize=(6,5))\n    \n    # Plot the magnetic flux\n    field_to_plot = fields[srcList, 'dbdt', time_ind]\n    max_field = np.abs(field_to_plot).max() #use to set colorbar limits\n    cb_range = 5e2  # dynamic range of colorbar\n    \n    cb = plt.colorbar(mesh.plotImage(\n        field_to_plot, \n        vType='F', view='vec', \n        range_x=[-120., 120.], range_y=[-180., 80.],\n        pcolorOpts={\n                'norm': LogNorm(), \n                'cmap': plt.get_cmap('viridis')\n            },\n        streamOpts={'color': 'w'}, mirror=True, ax=ax, \n        clim=[max_field/cb_range, max_field]\n    )[0], ax=ax)\n\n    ax.set_xlim([-120., 120.])\n    ax.set_ylim([-180., 70.])\n    cb.set_label('|db/dt|')\n\n    # plot the outline of the sphere\n    x = np.linspace(-sphere_radius, sphere_radius, 100)\n    ax.plot(x, np.sqrt(sphere_radius**2 - x**2) + sphere_z, color='k')\n    ax.plot(x, -np.sqrt(sphere_radius**2 - x**2) + sphere_z, color='k')\n\n    # plot the source and receiver locations\n    ax.plot(src_loc[0],src_loc[2],'co', markersize=6)\n    # ax.plot(rx_loc[0,0],rx_loc[0,2],'co', markersize=6)\n\n    # plot the surface of the earth\n    ax.plot(np.r_[-200, 200], np.r_[0., 0.], 'w:')\n\n    # give it a title\n    ax.set_title(\n        'db/dt, {time:10.2e} s'.format( \n            time=prob.times[time_ind]\n        )\n    )\n    plt.show()\n    return ax\n\nipywidgets.interact(\n    plot_dbdtSphere, \n    time_ind=ipywidgets.IntSlider(min=1, max=len(prob.timeSteps)-1, value=1) \n)",
   "execution_count": null,
   "outputs": []
  },
  {
   "metadata": {},
   "cell_type": "markdown",
   "source": "### Plot data with and without sphere\n\nIn what follows, we plot db/dt data with and without the sphere"
  },
  {
   "metadata": {
    "trusted": false
   },
   "cell_type": "code",
   "source": "dpred = survey.dpred(sigma, f=fields)\ndpred_background = survey.dpred(sigma_background, f=fields_background)",
   "execution_count": null,
   "outputs": []
  },
  {
   "metadata": {
    "trusted": false
   },
   "cell_type": "code",
   "source": "# Plot\nfig, ax = plt.subplots(1,1)\n\nax.loglog(1e3*times, -dpred)\nax.loglog(1e3*times, -dpred_background, '--k')\nax.grid(True, color='k',linestyle=\"-\", linewidth=0.1)\nax.legend(['with sphere', 'background'])\n\nax.set_title('Sounding over Sphere')\nax.set_ylabel('-$db_z/dt$')\nax.set_xlabel('time (ms)')",
   "execution_count": null,
   "outputs": []
  },
  {
   "metadata": {
    "trusted": false
   },
   "cell_type": "code",
   "source": "",
   "execution_count": null,
   "outputs": []
  }
 ],
 "metadata": {
  "anaconda-cloud": {},
  "kernelspec": {
   "name": "python3",
   "language": "python",
   "display_name": "Python 3"
  },
  "language_info": {
   "name": "python",
   "version": "3.7.8",
   "mimetype": "text/x-python",
   "codemirror_mode": {
    "name": "ipython",
    "version": 3
   },
   "pygments_lexer": "ipython3",
   "nbconvert_exporter": "python",
   "file_extension": ".py"
  }
 },
 "nbformat": 4,
 "nbformat_minor": 1
}